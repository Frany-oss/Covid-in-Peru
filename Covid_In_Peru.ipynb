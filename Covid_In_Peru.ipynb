{
  "nbformat": 4,
  "nbformat_minor": 0,
  "metadata": {
    "colab": {
      "name": "Covid In Peru.ipynb",
      "provenance": [],
      "toc_visible": true,
      "authorship_tag": "ABX9TyO76THY1eINnPL1lyRpkIO6",
      "include_colab_link": true
    },
    "kernelspec": {
      "name": "python3",
      "display_name": "Python 3"
    }
  },
  "cells": [
    {
      "cell_type": "markdown",
      "metadata": {
        "id": "view-in-github",
        "colab_type": "text"
      },
      "source": [
        "<a href=\"https://colab.research.google.com/github/Frany-oss/Covid-in-Peru/blob/main/Covid_In_Peru.ipynb\" target=\"_parent\"><img src=\"https://colab.research.google.com/assets/colab-badge.svg\" alt=\"Open In Colab\"/></a>"
      ]
    },
    {
      "cell_type": "markdown",
      "metadata": {
        "id": "DrJJHzYeIxpx"
      },
      "source": [
        "# Covid In Peru\r\n",
        "Is it well known that Peru is the one of the countries (if not the one) that is worse managing the pandemic. So, I found a Kaggle dataset from October with the cases of Covid in Peru.\r\n",
        "\r\n",
        "Public data from Instituto Nacional de Salud y Centro Nacional de Epidemiologia, prevención y Control de Enfermedades – MINSA.\r\n",
        "\r\n",
        "In this Notebook I'm not gonna use ML (at the moment)."
      ]
    },
    {
      "cell_type": "markdown",
      "metadata": {
        "id": "bX8dh9AeKRYs"
      },
      "source": [
        "### Dependencies"
      ]
    },
    {
      "cell_type": "code",
      "metadata": {
        "id": "ZEVvnQwbHn9Q"
      },
      "source": [
        "# Data Manipulation\r\n",
        "import numpy as np\r\n",
        "import pandas as pd\r\n",
        "\r\n",
        "# Visualization \r\n",
        "import matplotlib.pyplot as plt\r\n",
        "import missingno\r\n",
        "import seaborn as sns\r\n",
        "plt.style.use('seaborn-whitegrid')"
      ],
      "execution_count": null,
      "outputs": []
    },
    {
      "cell_type": "markdown",
      "metadata": {
        "id": "8nqr26PSKlSS"
      },
      "source": [
        "### Loading Data"
      ]
    },
    {
      "cell_type": "code",
      "metadata": {
        "colab": {
          "base_uri": "https://localhost:8080/",
          "height": 363
        },
        "id": "ForTDUeGKbie",
        "outputId": "755d109f-8d7b-45a7-f890-002efbedbdbb"
      },
      "source": [
        "death_cases = pd.read_csv('/content/fallecidos_covid.csv', encoding='latin-1', sep = ';')\r\n",
        "positive_cases = pd.read_csv('/content/positivos_covid.csv', encoding='latin-1', sep = ';')\r\n",
        "\r\n",
        "death_cases.head(10)"
      ],
      "execution_count": 23,
      "outputs": [
        {
          "output_type": "execute_result",
          "data": {
            "text/html": [
              "<div>\n",
              "<style scoped>\n",
              "    .dataframe tbody tr th:only-of-type {\n",
              "        vertical-align: middle;\n",
              "    }\n",
              "\n",
              "    .dataframe tbody tr th {\n",
              "        vertical-align: top;\n",
              "    }\n",
              "\n",
              "    .dataframe thead th {\n",
              "        text-align: right;\n",
              "    }\n",
              "</style>\n",
              "<table border=\"1\" class=\"dataframe\">\n",
              "  <thead>\n",
              "    <tr style=\"text-align: right;\">\n",
              "      <th></th>\n",
              "      <th>FECHA_CORTE</th>\n",
              "      <th>UUID</th>\n",
              "      <th>FECHA_FALLECIMIENTO</th>\n",
              "      <th>EDAD_DECLARADA</th>\n",
              "      <th>SEXO</th>\n",
              "      <th>FECHA_NAC</th>\n",
              "      <th>DEPARTAMENTO</th>\n",
              "      <th>PROVINCIA</th>\n",
              "      <th>DISTRITO</th>\n",
              "    </tr>\n",
              "  </thead>\n",
              "  <tbody>\n",
              "    <tr>\n",
              "      <th>0</th>\n",
              "      <td>20210228</td>\n",
              "      <td>d9f43aa5a915db32d9da922ee2a7d06c</td>\n",
              "      <td>20200613</td>\n",
              "      <td>40</td>\n",
              "      <td>FEMENINO</td>\n",
              "      <td>19790730.0</td>\n",
              "      <td>LA LIBERTAD</td>\n",
              "      <td>TRUJILLO</td>\n",
              "      <td>FLORENCIA DE MORA</td>\n",
              "    </tr>\n",
              "    <tr>\n",
              "      <th>1</th>\n",
              "      <td>20210228</td>\n",
              "      <td>78fe72afd9bd03d10414503a5e50337d</td>\n",
              "      <td>20200613</td>\n",
              "      <td>50</td>\n",
              "      <td>MASCULINO</td>\n",
              "      <td>19690723.0</td>\n",
              "      <td>LIMA</td>\n",
              "      <td>LIMA</td>\n",
              "      <td>VILLA EL SALVADOR</td>\n",
              "    </tr>\n",
              "    <tr>\n",
              "      <th>2</th>\n",
              "      <td>20210228</td>\n",
              "      <td>d892c9b6ce147f154de5e13039d15b62</td>\n",
              "      <td>20200613</td>\n",
              "      <td>32</td>\n",
              "      <td>FEMENINO</td>\n",
              "      <td>19871017.0</td>\n",
              "      <td>LIMA</td>\n",
              "      <td>LIMA</td>\n",
              "      <td>SAN JUAN DE LURIGANCHO</td>\n",
              "    </tr>\n",
              "    <tr>\n",
              "      <th>3</th>\n",
              "      <td>20210228</td>\n",
              "      <td>6dd24a13ccae0ce1032e6977933cf7e2</td>\n",
              "      <td>20200613</td>\n",
              "      <td>46</td>\n",
              "      <td>MASCULINO</td>\n",
              "      <td>19730710.0</td>\n",
              "      <td>ANCASH</td>\n",
              "      <td>HUARAZ</td>\n",
              "      <td>TARICA</td>\n",
              "    </tr>\n",
              "    <tr>\n",
              "      <th>4</th>\n",
              "      <td>20210228</td>\n",
              "      <td>b8293f40152245f3652bf996a5098509</td>\n",
              "      <td>20200613</td>\n",
              "      <td>49</td>\n",
              "      <td>MASCULINO</td>\n",
              "      <td>19700810.0</td>\n",
              "      <td>LIMA</td>\n",
              "      <td>LIMA</td>\n",
              "      <td>SAN JUAN DE LURIGANCHO</td>\n",
              "    </tr>\n",
              "    <tr>\n",
              "      <th>5</th>\n",
              "      <td>20210228</td>\n",
              "      <td>d4522e90eeca10ed9a9759e40bdbd9fc</td>\n",
              "      <td>20200613</td>\n",
              "      <td>89</td>\n",
              "      <td>FEMENINO</td>\n",
              "      <td>19300916.0</td>\n",
              "      <td>CUSCO</td>\n",
              "      <td>CUSCO</td>\n",
              "      <td>SAN SEBASTIAN</td>\n",
              "    </tr>\n",
              "    <tr>\n",
              "      <th>6</th>\n",
              "      <td>20210228</td>\n",
              "      <td>144f94e8cde4e8d436cdd58de7cf3cd1</td>\n",
              "      <td>20200613</td>\n",
              "      <td>28</td>\n",
              "      <td>MASCULINO</td>\n",
              "      <td>19910809.0</td>\n",
              "      <td>CALLAO</td>\n",
              "      <td>CALLAO</td>\n",
              "      <td>LA PERLA</td>\n",
              "    </tr>\n",
              "    <tr>\n",
              "      <th>7</th>\n",
              "      <td>20210228</td>\n",
              "      <td>b44a32ae0076ec2dec9ce3a026e6b333</td>\n",
              "      <td>20200613</td>\n",
              "      <td>58</td>\n",
              "      <td>MASCULINO</td>\n",
              "      <td>19620419.0</td>\n",
              "      <td>SAN MARTIN</td>\n",
              "      <td>MARISCAL CACERES</td>\n",
              "      <td>JUANJUI</td>\n",
              "    </tr>\n",
              "    <tr>\n",
              "      <th>8</th>\n",
              "      <td>20210228</td>\n",
              "      <td>84f41e697d50c3b94bf182eea6d98892</td>\n",
              "      <td>20200613</td>\n",
              "      <td>71</td>\n",
              "      <td>MASCULINO</td>\n",
              "      <td>19490413.0</td>\n",
              "      <td>ANCASH</td>\n",
              "      <td>SANTA</td>\n",
              "      <td>CHIMBOTE</td>\n",
              "    </tr>\n",
              "    <tr>\n",
              "      <th>9</th>\n",
              "      <td>20210228</td>\n",
              "      <td>0f40dc1cfe8a16a87f18c968d3fc6e3b</td>\n",
              "      <td>20200613</td>\n",
              "      <td>59</td>\n",
              "      <td>MASCULINO</td>\n",
              "      <td>19610216.0</td>\n",
              "      <td>LIMA</td>\n",
              "      <td>LIMA</td>\n",
              "      <td>COMAS</td>\n",
              "    </tr>\n",
              "  </tbody>\n",
              "</table>\n",
              "</div>"
            ],
            "text/plain": [
              "   FECHA_CORTE  ...                DISTRITO\n",
              "0     20210228  ...       FLORENCIA DE MORA\n",
              "1     20210228  ...       VILLA EL SALVADOR\n",
              "2     20210228  ...  SAN JUAN DE LURIGANCHO\n",
              "3     20210228  ...                  TARICA\n",
              "4     20210228  ...  SAN JUAN DE LURIGANCHO\n",
              "5     20210228  ...           SAN SEBASTIAN\n",
              "6     20210228  ...                LA PERLA\n",
              "7     20210228  ...                 JUANJUI\n",
              "8     20210228  ...                CHIMBOTE\n",
              "9     20210228  ...                   COMAS\n",
              "\n",
              "[10 rows x 9 columns]"
            ]
          },
          "metadata": {
            "tags": []
          },
          "execution_count": 23
        }
      ]
    },
    {
      "cell_type": "code",
      "metadata": {
        "id": "_vM3zP6LK1Q2",
        "colab": {
          "base_uri": "https://localhost:8080/",
          "height": 363
        },
        "outputId": "4725825e-0b7b-4e0d-8878-b3cd7bd84dfd"
      },
      "source": [
        "positive_cases.head(10)"
      ],
      "execution_count": 24,
      "outputs": [
        {
          "output_type": "execute_result",
          "data": {
            "text/html": [
              "<div>\n",
              "<style scoped>\n",
              "    .dataframe tbody tr th:only-of-type {\n",
              "        vertical-align: middle;\n",
              "    }\n",
              "\n",
              "    .dataframe tbody tr th {\n",
              "        vertical-align: top;\n",
              "    }\n",
              "\n",
              "    .dataframe thead th {\n",
              "        text-align: right;\n",
              "    }\n",
              "</style>\n",
              "<table border=\"1\" class=\"dataframe\">\n",
              "  <thead>\n",
              "    <tr style=\"text-align: right;\">\n",
              "      <th></th>\n",
              "      <th>ï»¿FECHA_CORTE</th>\n",
              "      <th>UUID</th>\n",
              "      <th>DEPARTAMENTO</th>\n",
              "      <th>PROVINCIA</th>\n",
              "      <th>DISTRITO</th>\n",
              "      <th>METODODX</th>\n",
              "      <th>EDAD</th>\n",
              "      <th>SEXO</th>\n",
              "      <th>FECHA_RESULTADO</th>\n",
              "    </tr>\n",
              "  </thead>\n",
              "  <tbody>\n",
              "    <tr>\n",
              "      <th>0</th>\n",
              "      <td>20210228</td>\n",
              "      <td>7320cabdc1aaca6c59014cae76a134e6</td>\n",
              "      <td>LIMA REGION</td>\n",
              "      <td>HUAROCHIRI</td>\n",
              "      <td>SAN ANTONIO</td>\n",
              "      <td>PR</td>\n",
              "      <td>41.0</td>\n",
              "      <td>FEMENINO</td>\n",
              "      <td>20200526.0</td>\n",
              "    </tr>\n",
              "    <tr>\n",
              "      <th>1</th>\n",
              "      <td>20210228</td>\n",
              "      <td>e81602051997ace8340bb8c18fe24c65</td>\n",
              "      <td>APURIMAC</td>\n",
              "      <td>ABANCAY</td>\n",
              "      <td>ABANCAY</td>\n",
              "      <td>PR</td>\n",
              "      <td>32.0</td>\n",
              "      <td>FEMENINO</td>\n",
              "      <td>20200425.0</td>\n",
              "    </tr>\n",
              "    <tr>\n",
              "      <th>2</th>\n",
              "      <td>20210228</td>\n",
              "      <td>cecdbf10074dbc011ae05b3cbd320a6f</td>\n",
              "      <td>APURIMAC</td>\n",
              "      <td>ABANCAY</td>\n",
              "      <td>ABANCAY</td>\n",
              "      <td>PR</td>\n",
              "      <td>34.0</td>\n",
              "      <td>FEMENINO</td>\n",
              "      <td>20200429.0</td>\n",
              "    </tr>\n",
              "    <tr>\n",
              "      <th>3</th>\n",
              "      <td>20210228</td>\n",
              "      <td>71ecb6bccb248b0bb2ac72ed51b5e979</td>\n",
              "      <td>APURIMAC</td>\n",
              "      <td>ANDAHUAYLAS</td>\n",
              "      <td>ANDAHUAYLAS</td>\n",
              "      <td>PR</td>\n",
              "      <td>40.0</td>\n",
              "      <td>FEMENINO</td>\n",
              "      <td>20200426.0</td>\n",
              "    </tr>\n",
              "    <tr>\n",
              "      <th>4</th>\n",
              "      <td>20210228</td>\n",
              "      <td>566af4276cbe9359abe93f9aa86396c3</td>\n",
              "      <td>APURIMAC</td>\n",
              "      <td>ABANCAY</td>\n",
              "      <td>ABANCAY</td>\n",
              "      <td>PR</td>\n",
              "      <td>40.0</td>\n",
              "      <td>FEMENINO</td>\n",
              "      <td>20200428.0</td>\n",
              "    </tr>\n",
              "    <tr>\n",
              "      <th>5</th>\n",
              "      <td>20210228</td>\n",
              "      <td>027561e9d126e7c283d79c02cede562d</td>\n",
              "      <td>APURIMAC</td>\n",
              "      <td>ABANCAY</td>\n",
              "      <td>ABANCAY</td>\n",
              "      <td>PR</td>\n",
              "      <td>47.0</td>\n",
              "      <td>FEMENINO</td>\n",
              "      <td>20200427.0</td>\n",
              "    </tr>\n",
              "    <tr>\n",
              "      <th>6</th>\n",
              "      <td>20210228</td>\n",
              "      <td>f016889b9ba5bd95cf15d60205cbd82e</td>\n",
              "      <td>APURIMAC</td>\n",
              "      <td>ABANCAY</td>\n",
              "      <td>ABANCAY</td>\n",
              "      <td>PR</td>\n",
              "      <td>49.0</td>\n",
              "      <td>FEMENINO</td>\n",
              "      <td>20200427.0</td>\n",
              "    </tr>\n",
              "    <tr>\n",
              "      <th>7</th>\n",
              "      <td>20210228</td>\n",
              "      <td>971f8e1295583756d81fe42f3318488c</td>\n",
              "      <td>APURIMAC</td>\n",
              "      <td>ABANCAY</td>\n",
              "      <td>ABANCAY</td>\n",
              "      <td>PR</td>\n",
              "      <td>53.0</td>\n",
              "      <td>FEMENINO</td>\n",
              "      <td>20200427.0</td>\n",
              "    </tr>\n",
              "    <tr>\n",
              "      <th>8</th>\n",
              "      <td>20210228</td>\n",
              "      <td>bc45b71b005a96f32eeb97060616a999</td>\n",
              "      <td>LIMA REGION</td>\n",
              "      <td>HUARAL</td>\n",
              "      <td>HUARAL</td>\n",
              "      <td>PR</td>\n",
              "      <td>51.0</td>\n",
              "      <td>FEMENINO</td>\n",
              "      <td>20200529.0</td>\n",
              "    </tr>\n",
              "    <tr>\n",
              "      <th>9</th>\n",
              "      <td>20210228</td>\n",
              "      <td>0e2a1928ddd07d99978758e86b034131</td>\n",
              "      <td>APURIMAC</td>\n",
              "      <td>ABANCAY</td>\n",
              "      <td>ABANCAY</td>\n",
              "      <td>PR</td>\n",
              "      <td>60.0</td>\n",
              "      <td>FEMENINO</td>\n",
              "      <td>20200425.0</td>\n",
              "    </tr>\n",
              "  </tbody>\n",
              "</table>\n",
              "</div>"
            ],
            "text/plain": [
              "   ï»¿FECHA_CORTE                              UUID  ...      SEXO FECHA_RESULTADO\n",
              "0        20210228  7320cabdc1aaca6c59014cae76a134e6  ...  FEMENINO      20200526.0\n",
              "1        20210228  e81602051997ace8340bb8c18fe24c65  ...  FEMENINO      20200425.0\n",
              "2        20210228  cecdbf10074dbc011ae05b3cbd320a6f  ...  FEMENINO      20200429.0\n",
              "3        20210228  71ecb6bccb248b0bb2ac72ed51b5e979  ...  FEMENINO      20200426.0\n",
              "4        20210228  566af4276cbe9359abe93f9aa86396c3  ...  FEMENINO      20200428.0\n",
              "5        20210228  027561e9d126e7c283d79c02cede562d  ...  FEMENINO      20200427.0\n",
              "6        20210228  f016889b9ba5bd95cf15d60205cbd82e  ...  FEMENINO      20200427.0\n",
              "7        20210228  971f8e1295583756d81fe42f3318488c  ...  FEMENINO      20200427.0\n",
              "8        20210228  bc45b71b005a96f32eeb97060616a999  ...  FEMENINO      20200529.0\n",
              "9        20210228  0e2a1928ddd07d99978758e86b034131  ...  FEMENINO      20200425.0\n",
              "\n",
              "[10 rows x 9 columns]"
            ]
          },
          "metadata": {
            "tags": []
          },
          "execution_count": 24
        }
      ]
    },
    {
      "cell_type": "code",
      "metadata": {
        "colab": {
          "base_uri": "https://localhost:8080/",
          "height": 414
        },
        "id": "4pNI_a9PW6VD",
        "outputId": "10a0fdad-c1f8-43c2-e645-6886f6d73939"
      },
      "source": [
        "# Analyzing if we have any missing values in our dataset (the white spaces are the missing values)\r\n",
        "missingno.matrix(death_cases, figsize=(30, 5))"
      ],
      "execution_count": 28,
      "outputs": [
        {
          "output_type": "execute_result",
          "data": {
            "text/plain": [
              "<matplotlib.axes._subplots.AxesSubplot at 0x7f443f1a5c10>"
            ]
          },
          "metadata": {
            "tags": []
          },
          "execution_count": 28
        },
        {
          "output_type": "display_data",
          "data": {
            "image/png": "[encoded data removed]",
            "text/plain": [
              "<Figure size 2160x360 with 2 Axes>"
            ]
          },
          "metadata": {
            "tags": [],
            "needs_background": "light"
          }
        }
      ]
    },
    {
      "cell_type": "code",
      "metadata": {
        "colab": {
          "base_uri": "https://localhost:8080/",
          "height": 391
        },
        "id": "4NUxY8CWXSEh",
        "outputId": "e61db921-5171-46d7-f66b-7f69a01789a1"
      },
      "source": [
        "missingno.matrix(positive_cases, figsize=(30, 5))"
      ],
      "execution_count": 29,
      "outputs": [
        {
          "output_type": "execute_result",
          "data": {
            "text/plain": [
              "<matplotlib.axes._subplots.AxesSubplot at 0x7f4436dd8c90>"
            ]
          },
          "metadata": {
            "tags": []
          },
          "execution_count": 29
        },
        {
          "output_type": "display_data",
          "data": {
            "image/png": "[encoded data removed]",
            "text/plain": [
              "<Figure size 2160x360 with 2 Axes>"
            ]
          },
          "metadata": {
            "tags": [],
            "needs_background": "light"
          }
        }
      ]
    },
    {
      "cell_type": "code",
      "metadata": {
        "colab": {
          "base_uri": "https://localhost:8080/"
        },
        "id": "JjUgE6vzXYjq",
        "outputId": "76c53786-6500-460b-e4a3-cb634d647593"
      },
      "source": [
        "# All the missing values (or null)\r\n",
        "death_cases.isnull().sum()"
      ],
      "execution_count": 30,
      "outputs": [
        {
          "output_type": "execute_result",
          "data": {
            "text/plain": [
              "FECHA_CORTE                0\n",
              "UUID                       0\n",
              "FECHA_FALLECIMIENTO        0\n",
              "EDAD_DECLARADA             0\n",
              "SEXO                       0\n",
              "FECHA_NAC              14938\n",
              "DEPARTAMENTO               0\n",
              "PROVINCIA                851\n",
              "DISTRITO                 321\n",
              "dtype: int64"
            ]
          },
          "metadata": {
            "tags": []
          },
          "execution_count": 30
        }
      ]
    },
    {
      "cell_type": "code",
      "metadata": {
        "id": "RGM_2o6MX_az"
      },
      "source": [
        ""
      ],
      "execution_count": null,
      "outputs": []
    }
  ]
}